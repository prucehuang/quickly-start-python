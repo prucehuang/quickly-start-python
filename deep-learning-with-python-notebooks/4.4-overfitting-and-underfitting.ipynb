{
 "cells": [
  {
   "cell_type": "code",
   "execution_count": 2,
   "metadata": {},
   "outputs": [],
   "source": [
    "import keras\n",
    "keras.__version__\n",
    "\n",
    "import numpy as np\n",
    "\n",
    "np_load_old = np.load\n",
    "# modify the default parameters of np.load\n",
    "np.load = lambda *a,**k: np_load_old(*a, allow_pickle=True, **k)\n",
    "\n",
    "# restore np.load for future normal usage\n",
    "# np.load = np_load_old"
   ]
  },
  {
   "cell_type": "markdown",
   "metadata": {},
   "source": [
    "# Overfitting and underfitting\n",
    "\n",
    "This notebook contains the code samples found in Chapter 3, Section 6 of [Deep Learning with Python](https://www.manning.com/books/deep-learning-with-python?a_aid=keras&a_bid=76564dff). Note that the original text features far more content, in particular further explanations and figures: in this notebook, you will only find source code and related comments.\n",
    "\n",
    "----\n",
    "\n",
    "\n",
    "In all the examples we saw in the previous chapter -- movie review sentiment prediction, topic classification, and house price regression -- \n",
    "we could notice that the performance of our model on the held-out validation data would always peak after a few epochs and would then start \n",
    "degrading, i.e. our model would quickly start to _overfit_ to the training data. Overfitting happens in every single machine learning \n",
    "problem. Learning how to deal with overfitting is essential to mastering machine learning.\n",
    "\n",
    "The fundamental issue in machine learning is the tension between optimization and generalization. \"Optimization\" refers to the process of \n",
    "adjusting a model to get the best performance possible on the training data (the \"learning\" in \"machine learning\"), while \"generalization\" \n",
    "refers to how well the trained model would perform on data it has never seen before. The goal of the game is to get good generalization, of \n",
    "course, but you do not control generalization; you can only adjust the model based on its training data.\n",
    "\n",
    "At the beginning of training, optimization and generalization are correlated: the lower your loss on training data, the lower your loss on \n",
    "test data. While this is happening, your model is said to be _under-fit_: there is still progress to be made; the network hasn't yet \n",
    "modeled all relevant patterns in the training data. But after a certain number of iterations on the training data, generalization stops \n",
    "improving, validation metrics stall then start degrading: the model is then starting to over-fit, i.e. is it starting to learn patterns \n",
    "that are specific to the training data but that are misleading or irrelevant when it comes to new data.\n",
    "\n",
    "To prevent a model from learning misleading or irrelevant patterns found in the training data, _the best solution is of course to get \n",
    "more training data_. A model trained on more data will naturally generalize better. When that is no longer possible, the next best solution \n",
    "is to modulate the quantity of information that your model is allowed to store, or to add constraints on what information it is allowed to \n",
    "store. If a network can only afford to memorize a small number of patterns, the optimization process will force it to focus on the most \n",
    "prominent patterns, which have a better chance of generalizing well.\n",
    "\n",
    "The processing of fighting overfitting in this way is called _regularization_. Let's review some of the most common regularization \n",
    "techniques, and let's apply them in practice to improve our movie classification model from  the previous chapter."
   ]
  },
  {
   "cell_type": "markdown",
   "metadata": {},
   "source": [
    "Note: in this notebook we will be using the IMDB test set as our validation set. It doesn't matter in this context.\n",
    "\n",
    "Let's prepare the data using the code from Chapter 3, Section 5:"
   ]
  },
  {
   "cell_type": "code",
   "execution_count": 4,
   "metadata": {},
   "outputs": [
    {
     "name": "stdout",
     "output_type": "stream",
     "text": [
      "train data: (25000, 10000) (25000,)\n",
      "test data: (25000, 10000) (25000,)\n"
     ]
    }
   ],
   "source": [
    "from keras.datasets import imdb\n",
    "import numpy as np\n",
    "\n",
    "(train_data, train_labels), (test_data, test_labels) = imdb.load_data(num_words=10000)\n",
    "\n",
    "def vectorize_sequences(sequences, dimension=10000):\n",
    "    # Create an all-zero matrix of shape (len(sequences), dimension)\n",
    "    results = np.zeros((len(sequences), dimension))\n",
    "    for i, sequence in enumerate(sequences):\n",
    "        results[i, sequence] = 1.  # set specific indices of results[i] to 1s\n",
    "    return results\n",
    "\n",
    "# Our vectorized training data\n",
    "x_train = vectorize_sequences(train_data)\n",
    "# Our vectorized test data\n",
    "x_test = vectorize_sequences(test_data)\n",
    "# Our vectorized labels\n",
    "y_train = np.asarray(train_labels).astype('float32')\n",
    "y_test = np.asarray(test_labels).astype('float32')\n",
    "print('train data:', x_train.shape, y_train.shape)\n",
    "print('test data:', x_test.shape, y_test.shape)"
   ]
  },
  {
   "cell_type": "markdown",
   "metadata": {},
   "source": [
    "# Fighting overfitting\n",
    "\n",
    "## Reducing the network's size\n",
    "\n",
    "\n",
    "The simplest way to prevent overfitting is to reduce the size of the model, i.e. the number of learnable parameters in the model (which is \n",
    "determined by the number of layers and the number of units per layer). In deep learning, the number of learnable parameters in a model is \n",
    "often referred to as the model's \"capacity\". Intuitively, a model with more parameters will have more \"memorization capacity\" and therefore \n",
    "will be able to easily learn a perfect dictionary-like mapping between training samples and their targets, a mapping without any \n",
    "generalization power. For instance, a model with 500,000 binary parameters could easily be made to learn the class of every digits in the \n",
    "MNIST training set: we would only need 10 binary parameters for each of the 50,000 digits. Such a model would be useless for classifying \n",
    "new digit samples. Always keep this in mind: deep learning models tend to be good at fitting to the training data, but the real challenge \n",
    "is generalization, not fitting.\n",
    "\n",
    "On the other hand, if the network has limited memorization resources, it will not be able to learn this mapping as easily, and thus, in \n",
    "order to minimize its loss, it will have to resort to learning compressed representations that have predictive power regarding the targets \n",
    "-- precisely the type of representations that we are interested in. At the same time, keep in mind that you should be using models that have \n",
    "enough parameters that they won't be underfitting: your model shouldn't be starved for memorization resources. There is a compromise to be \n",
    "found between \"too much capacity\" and \"not enough capacity\".\n",
    "\n",
    "Unfortunately, there is no magical formula to determine what the right number of layers is, or what the right size for each layer is. You \n",
    "will have to evaluate an array of different architectures (on your validation set, not on your test set, of course) in order to find the \n",
    "right model size for your data. The general workflow to find an appropriate model size is to start with relatively few layers and \n",
    "parameters, and start increasing the size of the layers or adding new layers until you see diminishing returns with regard to the \n",
    "validation loss.\n",
    "\n",
    "Let's try this on our movie review classification network. Our original network was as such:"
   ]
  },
  {
   "cell_type": "code",
   "execution_count": 5,
   "metadata": {},
   "outputs": [
    {
     "name": "stdout",
     "output_type": "stream",
     "text": [
      "WARNING:tensorflow:From C:\\ProgramData\\Anaconda3\\lib\\site-packages\\keras\\backend\\tensorflow_backend.py:74: The name tf.get_default_graph is deprecated. Please use tf.compat.v1.get_default_graph instead.\n",
      "\n",
      "WARNING:tensorflow:From C:\\ProgramData\\Anaconda3\\lib\\site-packages\\keras\\backend\\tensorflow_backend.py:517: The name tf.placeholder is deprecated. Please use tf.compat.v1.placeholder instead.\n",
      "\n",
      "WARNING:tensorflow:From C:\\ProgramData\\Anaconda3\\lib\\site-packages\\keras\\backend\\tensorflow_backend.py:4138: The name tf.random_uniform is deprecated. Please use tf.random.uniform instead.\n",
      "\n",
      "WARNING:tensorflow:From C:\\ProgramData\\Anaconda3\\lib\\site-packages\\keras\\optimizers.py:790: The name tf.train.Optimizer is deprecated. Please use tf.compat.v1.train.Optimizer instead.\n",
      "\n",
      "WARNING:tensorflow:From C:\\ProgramData\\Anaconda3\\lib\\site-packages\\keras\\backend\\tensorflow_backend.py:3376: The name tf.log is deprecated. Please use tf.math.log instead.\n",
      "\n",
      "WARNING:tensorflow:From C:\\ProgramData\\Anaconda3\\lib\\site-packages\\tensorflow\\python\\ops\\nn_impl.py:180: add_dispatch_support.<locals>.wrapper (from tensorflow.python.ops.array_ops) is deprecated and will be removed in a future version.\n",
      "Instructions for updating:\n",
      "Use tf.where in 2.0, which has the same broadcast rule as np.where\n"
     ]
    }
   ],
   "source": [
    "from keras import models\n",
    "from keras import layers\n",
    "\n",
    "original_model = models.Sequential()\n",
    "original_model.add(layers.Dense(16, activation='relu', input_shape=(10000,)))\n",
    "original_model.add(layers.Dense(16, activation='relu'))\n",
    "original_model.add(layers.Dense(1, activation='sigmoid'))\n",
    "\n",
    "original_model.compile(optimizer='rmsprop',\n",
    "                       loss='binary_crossentropy',\n",
    "                       metrics=['acc'])"
   ]
  },
  {
   "cell_type": "markdown",
   "metadata": {},
   "source": [
    "Now let's try to replace it with this smaller network:"
   ]
  },
  {
   "cell_type": "code",
   "execution_count": 6,
   "metadata": {},
   "outputs": [],
   "source": [
    "smaller_model = models.Sequential()\n",
    "smaller_model.add(layers.Dense(4, activation='relu', input_shape=(10000,)))\n",
    "smaller_model.add(layers.Dense(4, activation='relu'))\n",
    "smaller_model.add(layers.Dense(1, activation='sigmoid'))\n",
    "\n",
    "smaller_model.compile(optimizer='rmsprop',\n",
    "                      loss='binary_crossentropy',\n",
    "                      metrics=['acc'])"
   ]
  },
  {
   "cell_type": "markdown",
   "metadata": {},
   "source": [
    "\n",
    "Here's a comparison of the validation losses of the original network and the smaller network. The dots are the validation loss values of \n",
    "the smaller network, and the crosses are the initial network (remember: a lower validation loss signals a better model)."
   ]
  },
  {
   "cell_type": "code",
   "execution_count": 7,
   "metadata": {},
   "outputs": [
    {
     "name": "stdout",
     "output_type": "stream",
     "text": [
      "WARNING:tensorflow:From C:\\ProgramData\\Anaconda3\\lib\\site-packages\\keras\\backend\\tensorflow_backend.py:986: The name tf.assign_add is deprecated. Please use tf.compat.v1.assign_add instead.\n",
      "\n",
      "Train on 25000 samples, validate on 25000 samples\n",
      "Epoch 1/20\n",
      "25000/25000 [==============================] - 4s 160us/step - loss: 0.4440 - acc: 0.8244 - val_loss: 0.3285 - val_acc: 0.8842\n",
      "Epoch 2/20\n",
      "25000/25000 [==============================] - 3s 124us/step - loss: 0.2576 - acc: 0.9080 - val_loss: 0.2864 - val_acc: 0.8886\n",
      "Epoch 3/20\n",
      "25000/25000 [==============================] - 3s 127us/step - loss: 0.1994 - acc: 0.9289 - val_loss: 0.2820 - val_acc: 0.8887\n",
      "Epoch 4/20\n",
      "25000/25000 [==============================] - 3s 124us/step - loss: 0.1671 - acc: 0.9412 - val_loss: 0.2941 - val_acc: 0.8846\n",
      "Epoch 5/20\n",
      "25000/25000 [==============================] - 3s 122us/step - loss: 0.1441 - acc: 0.9493 - val_loss: 0.3116 - val_acc: 0.8800\n",
      "Epoch 6/20\n",
      "25000/25000 [==============================] - 3s 123us/step - loss: 0.1268 - acc: 0.9554 - val_loss: 0.3493 - val_acc: 0.8720\n",
      "Epoch 7/20\n",
      "25000/25000 [==============================] - 3s 125us/step - loss: 0.1122 - acc: 0.9614 - val_loss: 0.3583 - val_acc: 0.8729\n",
      "Epoch 8/20\n",
      "25000/25000 [==============================] - 3s 125us/step - loss: 0.0992 - acc: 0.9666 - val_loss: 0.3983 - val_acc: 0.8652\n",
      "Epoch 9/20\n",
      "25000/25000 [==============================] - 3s 124us/step - loss: 0.0859 - acc: 0.9716 - val_loss: 0.4329 - val_acc: 0.8612\n",
      "Epoch 10/20\n",
      "25000/25000 [==============================] - 3s 126us/step - loss: 0.0773 - acc: 0.9755 - val_loss: 0.5039 - val_acc: 0.8521\n",
      "Epoch 11/20\n",
      "25000/25000 [==============================] - 3s 125us/step - loss: 0.0702 - acc: 0.9770 - val_loss: 0.4860 - val_acc: 0.8591\n",
      "Epoch 12/20\n",
      "25000/25000 [==============================] - 3s 126us/step - loss: 0.0583 - acc: 0.9821 - val_loss: 0.5228 - val_acc: 0.8565\n",
      "Epoch 13/20\n",
      "25000/25000 [==============================] - 3s 126us/step - loss: 0.0529 - acc: 0.9839 - val_loss: 0.5338 - val_acc: 0.8581\n",
      "Epoch 14/20\n",
      "25000/25000 [==============================] - 3s 126us/step - loss: 0.0439 - acc: 0.9870 - val_loss: 0.6222 - val_acc: 0.8478\n",
      "Epoch 15/20\n",
      "25000/25000 [==============================] - 3s 126us/step - loss: 0.0389 - acc: 0.9882 - val_loss: 0.6063 - val_acc: 0.8546\n",
      "Epoch 16/20\n",
      "25000/25000 [==============================] - 3s 128us/step - loss: 0.0319 - acc: 0.9911 - val_loss: 0.6393 - val_acc: 0.8535\n",
      "Epoch 17/20\n",
      "25000/25000 [==============================] - 3s 128us/step - loss: 0.0277 - acc: 0.9924 - val_loss: 0.6836 - val_acc: 0.8520\n",
      "Epoch 18/20\n",
      "25000/25000 [==============================] - 3s 129us/step - loss: 0.0217 - acc: 0.9944 - val_loss: 0.7212 - val_acc: 0.8507\n",
      "Epoch 19/20\n",
      "25000/25000 [==============================] - 3s 131us/step - loss: 0.0225 - acc: 0.9938 - val_loss: 0.7490 - val_acc: 0.8500\n",
      "Epoch 20/20\n",
      "25000/25000 [==============================] - 3s 127us/step - loss: 0.0149 - acc: 0.9964 - val_loss: 0.8768 - val_acc: 0.8404\n"
     ]
    }
   ],
   "source": [
    "original_hist = original_model.fit(x_train, y_train,\n",
    "                                   epochs=20,\n",
    "                                   batch_size=512,\n",
    "                                   validation_data=(x_test, y_test))"
   ]
  },
  {
   "cell_type": "code",
   "execution_count": 8,
   "metadata": {},
   "outputs": [
    {
     "name": "stdout",
     "output_type": "stream",
     "text": [
      "Train on 25000 samples, validate on 25000 samples\n",
      "Epoch 1/20\n",
      "25000/25000 [==============================] - 3s 133us/step - loss: 0.5817 - acc: 0.7003 - val_loss: 0.5307 - val_acc: 0.7592\n",
      "Epoch 2/20\n",
      "25000/25000 [==============================] - 3s 119us/step - loss: 0.4846 - acc: 0.8452 - val_loss: 0.4878 - val_acc: 0.8267\n",
      "Epoch 3/20\n",
      "25000/25000 [==============================] - 3s 120us/step - loss: 0.4390 - acc: 0.8928 - val_loss: 0.4674 - val_acc: 0.8476\n",
      "Epoch 4/20\n",
      "25000/25000 [==============================] - 3s 120us/step - loss: 0.4077 - acc: 0.9150 - val_loss: 0.4548 - val_acc: 0.8616\n",
      "Epoch 5/20\n",
      "25000/25000 [==============================] - 3s 119us/step - loss: 0.3831 - acc: 0.9307 - val_loss: 0.4534 - val_acc: 0.8592\n",
      "Epoch 6/20\n",
      "25000/25000 [==============================] - 3s 119us/step - loss: 0.3620 - acc: 0.9406 - val_loss: 0.4424 - val_acc: 0.8718\n",
      "Epoch 7/20\n",
      "25000/25000 [==============================] - 3s 120us/step - loss: 0.3426 - acc: 0.9508 - val_loss: 0.4505 - val_acc: 0.8665\n",
      "Epoch 8/20\n",
      "25000/25000 [==============================] - 3s 120us/step - loss: 0.3264 - acc: 0.9562 - val_loss: 0.4549 - val_acc: 0.8668\n",
      "Epoch 9/20\n",
      "25000/25000 [==============================] - 3s 119us/step - loss: 0.3101 - acc: 0.9609 - val_loss: 0.4665 - val_acc: 0.8636\n",
      "Epoch 10/20\n",
      "25000/25000 [==============================] - 3s 120us/step - loss: 0.2962 - acc: 0.9652 - val_loss: 0.4726 - val_acc: 0.8622\n",
      "Epoch 11/20\n",
      "25000/25000 [==============================] - 3s 120us/step - loss: 0.2816 - acc: 0.9691 - val_loss: 0.4925 - val_acc: 0.8589\n",
      "Epoch 12/20\n",
      "25000/25000 [==============================] - 3s 120us/step - loss: 0.2689 - acc: 0.9716 - val_loss: 0.4865 - val_acc: 0.8615\n",
      "Epoch 13/20\n",
      "25000/25000 [==============================] - 3s 120us/step - loss: 0.2565 - acc: 0.9746 - val_loss: 0.5169 - val_acc: 0.8568\n",
      "Epoch 14/20\n",
      "25000/25000 [==============================] - 3s 121us/step - loss: 0.2456 - acc: 0.9759 - val_loss: 0.5382 - val_acc: 0.8559\n",
      "Epoch 15/20\n",
      "25000/25000 [==============================] - 3s 121us/step - loss: 0.2342 - acc: 0.9783 - val_loss: 0.5027 - val_acc: 0.8611\n",
      "Epoch 16/20\n",
      "25000/25000 [==============================] - 3s 121us/step - loss: 0.2240 - acc: 0.9800 - val_loss: 0.5743 - val_acc: 0.8544\n",
      "Epoch 17/20\n",
      "25000/25000 [==============================] - 3s 123us/step - loss: 0.2154 - acc: 0.9802 - val_loss: 0.5736 - val_acc: 0.8555\n",
      "Epoch 18/20\n",
      "25000/25000 [==============================] - 3s 122us/step - loss: 0.2055 - acc: 0.9819 - val_loss: 0.6094 - val_acc: 0.8522\n",
      "Epoch 19/20\n",
      "25000/25000 [==============================] - 3s 122us/step - loss: 0.1967 - acc: 0.9831 - val_loss: 0.6160 - val_acc: 0.8522\n",
      "Epoch 20/20\n",
      "25000/25000 [==============================] - 3s 121us/step - loss: 0.1886 - acc: 0.9837 - val_loss: 0.6657 - val_acc: 0.8501\n"
     ]
    }
   ],
   "source": [
    "smaller_model_hist = smaller_model.fit(x_train, y_train,\n",
    "                                       epochs=20,\n",
    "                                       batch_size=512,\n",
    "                                       validation_data=(x_test, y_test))"
   ]
  },
  {
   "cell_type": "code",
   "execution_count": 9,
   "metadata": {},
   "outputs": [],
   "source": [
    "epochs = range(1, 21)\n",
    "original_val_loss = original_hist.history['val_loss']\n",
    "smaller_model_val_loss = smaller_model_hist.history['val_loss']"
   ]
  },
  {
   "cell_type": "code",
   "execution_count": 11,
   "metadata": {},
   "outputs": [
    {
     "data": {
      "image/png": "[encoded data removed]",
      "text/plain": [
       "<Figure size 432x288 with 1 Axes>"
      ]
     },
     "metadata": {
      "needs_background": "light"
     },
     "output_type": "display_data"
    }
   ],
   "source": [
    "import matplotlib.pyplot as plt\n",
    "\n",
    "# b+ is for \"blue cross\"\n",
    "plt.plot(epochs, original_val_loss, 'b+', label='Original model')\n",
    "# \"bo\" is for \"blue dot\"\n",
    "plt.plot(epochs, smaller_model_val_loss, 'bo', label='Smaller model')\n",
    "plt.xlabel('Epochs')\n",
    "plt.ylabel('Validation loss')\n",
    "plt.legend()\n",
    "\n",
    "plt.show()"
   ]
  },
  {
   "cell_type": "markdown",
   "metadata": {},
   "source": [
    "\n",
    "As you can see, the smaller network starts overfitting later than the reference one (after 6 epochs rather than 4) and its performance \n",
    "degrades much more slowly once it starts overfitting.\n",
    "\n",
    "Now, for kicks, let's add to this benchmark a network that has much more capacity, far more than the problem would warrant:"
   ]
  },
  {
   "cell_type": "code",
   "execution_count": 12,
   "metadata": {},
   "outputs": [],
   "source": [
    "bigger_model = models.Sequential()\n",
    "bigger_model.add(layers.Dense(512, activation='relu', input_shape=(10000,)))\n",
    "bigger_model.add(layers.Dense(512, activation='relu'))\n",
    "bigger_model.add(layers.Dense(1, activation='sigmoid'))\n",
    "\n",
    "bigger_model.compile(optimizer='rmsprop',\n",
    "                     loss='binary_crossentropy',\n",
    "                     metrics=['acc'])"
   ]
  },
  {
   "cell_type": "code",
   "execution_count": 13,
   "metadata": {},
   "outputs": [
    {
     "name": "stdout",
     "output_type": "stream",
     "text": [
      "Train on 25000 samples, validate on 25000 samples\n",
      "Epoch 1/20\n",
      "25000/25000 [==============================] - 9s 357us/step - loss: 0.4622 - acc: 0.7911 - val_loss: 0.2838 - val_acc: 0.8880\n",
      "Epoch 2/20\n",
      "25000/25000 [==============================] - 8s 321us/step - loss: 0.2231 - acc: 0.9128 - val_loss: 0.3020 - val_acc: 0.8763\n",
      "Epoch 3/20\n",
      "25000/25000 [==============================] - 8s 318us/step - loss: 0.1334 - acc: 0.9500 - val_loss: 0.3375 - val_acc: 0.8734\n",
      "Epoch 4/20\n",
      "25000/25000 [==============================] - 8s 316us/step - loss: 0.0706 - acc: 0.9802 - val_loss: 0.4216 - val_acc: 0.8829\n",
      "Epoch 5/20\n",
      "25000/25000 [==============================] - 8s 335us/step - loss: 0.0720 - acc: 0.9874 - val_loss: 0.4888 - val_acc: 0.8826\n",
      "Epoch 6/20\n",
      "25000/25000 [==============================] - 8s 326us/step - loss: 0.0889 - acc: 0.9872 - val_loss: 0.5049 - val_acc: 0.8778\n",
      "Epoch 7/20\n",
      "25000/25000 [==============================] - 8s 326us/step - loss: 0.0011 - acc: 1.0000 - val_loss: 0.6476 - val_acc: 0.8800\n",
      "Epoch 8/20\n",
      "25000/25000 [==============================] - 8s 322us/step - loss: 1.6233e-04 - acc: 1.0000 - val_loss: 0.7822 - val_acc: 0.8813\n",
      "Epoch 9/20\n",
      "25000/25000 [==============================] - 8s 326us/step - loss: 0.0997 - acc: 0.9877 - val_loss: 0.7511 - val_acc: 0.8749\n",
      "Epoch 10/20\n",
      "25000/25000 [==============================] - 8s 310us/step - loss: 8.0756e-05 - acc: 1.0000 - val_loss: 0.7858 - val_acc: 0.8778\n",
      "Epoch 11/20\n",
      "25000/25000 [==============================] - 8s 308us/step - loss: 1.6958e-05 - acc: 1.0000 - val_loss: 0.8415 - val_acc: 0.8786\n",
      "Epoch 12/20\n",
      "25000/25000 [==============================] - 8s 312us/step - loss: 4.1048e-06 - acc: 1.0000 - val_loss: 0.9093 - val_acc: 0.8782\n",
      "Epoch 13/20\n",
      "25000/25000 [==============================] - 8s 315us/step - loss: 8.5078e-07 - acc: 1.0000 - val_loss: 0.9799 - val_acc: 0.8787\n",
      "Epoch 14/20\n",
      "25000/25000 [==============================] - 8s 308us/step - loss: 2.4310e-07 - acc: 1.0000 - val_loss: 1.0373 - val_acc: 0.8780\n",
      "Epoch 15/20\n",
      "25000/25000 [==============================] - 8s 317us/step - loss: 1.3744e-07 - acc: 1.0000 - val_loss: 1.0684 - val_acc: 0.8778\n",
      "Epoch 16/20\n",
      "25000/25000 [==============================] - 8s 316us/step - loss: 1.1976e-07 - acc: 1.0000 - val_loss: 1.0850 - val_acc: 0.8778\n",
      "Epoch 17/20\n",
      "25000/25000 [==============================] - 8s 312us/step - loss: 1.1505e-07 - acc: 1.0000 - val_loss: 1.0962 - val_acc: 0.8776\n",
      "Epoch 18/20\n",
      "25000/25000 [==============================] - 8s 304us/step - loss: 1.1306e-07 - acc: 1.0000 - val_loss: 1.1025 - val_acc: 0.8778\n",
      "Epoch 19/20\n",
      "25000/25000 [==============================] - 8s 305us/step - loss: 1.1208e-07 - acc: 1.0000 - val_loss: 1.1076 - val_acc: 0.8778\n",
      "Epoch 20/20\n",
      "25000/25000 [==============================] - 8s 311us/step - loss: 1.1139e-07 - acc: 1.0000 - val_loss: 1.1117 - val_acc: 0.8781\n"
     ]
    }
   ],
   "source": [
    "bigger_model_hist = bigger_model.fit(x_train, y_train,\n",
    "                                     epochs=20,\n",
    "                                     batch_size=512,\n",
    "                                     validation_data=(x_test, y_test))"
   ]
  },
  {
   "cell_type": "markdown",
   "metadata": {},
   "source": [
    "Here's how the bigger network fares compared to the reference one. The dots are the validation loss values of the bigger network, and the \n",
    "crosses are the initial network."
   ]
  },
  {
   "cell_type": "code",
   "execution_count": 14,
   "metadata": {},
   "outputs": [
    {
     "data": {
      "image/png": "[encoded data removed]",
      "text/plain": [
       "<Figure size 432x288 with 1 Axes>"
      ]
     },
     "metadata": {
      "needs_background": "light"
     },
     "output_type": "display_data"
    }
   ],
   "source": [
    "bigger_model_val_loss = bigger_model_hist.history['val_loss']\n",
    "\n",
    "plt.plot(epochs, original_val_loss, 'b+', label='Original model')\n",
    "plt.plot(epochs, bigger_model_val_loss, 'bo', label='Bigger model')\n",
    "plt.xlabel('Epochs')\n",
    "plt.ylabel('Validation loss')\n",
    "plt.legend()\n",
    "\n",
    "plt.show()"
   ]
  },
  {
   "cell_type": "markdown",
   "metadata": {},
   "source": [
    "\n",
    "The bigger network starts overfitting almost right away, after just one epoch, and overfits much more severely. Its validation loss is also \n",
    "more noisy.\n",
    "\n",
    "Meanwhile, here are the training losses for our two networks:"
   ]
  },
  {
   "cell_type": "code",
   "execution_count": 15,
   "metadata": {},
   "outputs": [
    {
     "data": {
      "image/png": "[encoded data removed]",
      "text/plain": [
       "<Figure size 432x288 with 1 Axes>"
      ]
     },
     "metadata": {
      "needs_background": "light"
     },
     "output_type": "display_data"
    }
   ],
   "source": [
    "original_train_loss = original_hist.history['loss']\n",
    "bigger_model_train_loss = bigger_model_hist.history['loss']\n",
    "\n",
    "plt.plot(epochs, original_train_loss, 'b+', label='Original model')\n",
    "plt.plot(epochs, bigger_model_train_loss, 'bo', label='Bigger model')\n",
    "plt.xlabel('Epochs')\n",
    "plt.ylabel('Training loss')\n",
    "plt.legend()\n",
    "\n",
    "plt.show()"
   ]
  },
  {
   "cell_type": "markdown",
   "metadata": {},
   "source": [
    "As you can see, the bigger network gets its training loss near zero very quickly. The more capacity the network has, the quicker it will be \n",
    "able to model the training data (resulting in a low training loss), but the more susceptible it is to overfitting (resulting in a large \n",
    "difference between the training and validation loss)."
   ]
  },
  {
   "cell_type": "markdown",
   "metadata": {},
   "source": [
    "## Adding weight regularization\n",
    "\n",
    "\n",
    "You may be familiar with _Occam's Razor_ principle: given two explanations for something, the explanation most likely to be correct is the \n",
    "\"simplest\" one, the one that makes the least amount of assumptions. This also applies to the models learned by neural networks: given some \n",
    "training data and a network architecture, there are multiple sets of weights values (multiple _models_) that could explain the data, and \n",
    "simpler models are less likely to overfit than complex ones.\n",
    "\n",
    "A \"simple model\" in this context is a model where the distribution of parameter values has less entropy (or a model with fewer \n",
    "parameters altogether, as we saw in the section above). Thus a common way to mitigate overfitting is to put constraints on the complexity \n",
    "of a network by forcing its weights to only take small values, which makes the distribution of weight values more \"regular\". This is called \n",
    "\"weight regularization\", and it is done by adding to the loss function of the network a _cost_ associated with having large weights. This \n",
    "cost comes in two flavors:\n",
    "\n",
    "* L1 regularization, where the cost added is proportional to the _absolute value of the weights coefficients_ (i.e. to what is called the \n",
    "\"L1 norm\" of the weights).\n",
    "* L2 regularization, where the cost added is proportional to the _square of the value of the weights coefficients_ (i.e. to what is called \n",
    "the \"L2 norm\" of the weights). L2 regularization is also called _weight decay_ in the context of neural networks. Don't let the different \n",
    "name confuse you: weight decay is mathematically the exact same as L2 regularization.\n",
    "\n",
    "In Keras, weight regularization is added by passing _weight regularizer instances_ to layers as keyword arguments. Let's add L2 weight \n",
    "regularization to our movie review classification network:"
   ]
  },
  {
   "cell_type": "code",
   "execution_count": 16,
   "metadata": {},
   "outputs": [],
   "source": [
    "from keras import regularizers\n",
    "\n",
    "l2_model = models.Sequential()\n",
    "l2_model.add(layers.Dense(16, kernel_regularizer=regularizers.l2(0.001),\n",
    "                          activation='relu', input_shape=(10000,)))\n",
    "l2_model.add(layers.Dense(16, kernel_regularizer=regularizers.l2(0.001),\n",
    "                          activation='relu'))\n",
    "l2_model.add(layers.Dense(1, activation='sigmoid'))"
   ]
  },
  {
   "cell_type": "code",
   "execution_count": 17,
   "metadata": {},
   "outputs": [],
   "source": [
    "l2_model.compile(optimizer='rmsprop',\n",
    "                 loss='binary_crossentropy',\n",
    "                 metrics=['acc'])"
   ]
  },
  {
   "cell_type": "markdown",
   "metadata": {},
   "source": [
    "`l2(0.001)` means that every coefficient in the weight matrix of the layer will add `0.001 * weight_coefficient_value` to the total loss of \n",
    "the network. Note that because this penalty is _only added at training time_, the loss for this network will be much higher at training \n",
    "than at test time.\n",
    "\n",
    "Here's the impact of our L2 regularization penalty:"
   ]
  },
  {
   "cell_type": "code",
   "execution_count": 18,
   "metadata": {},
   "outputs": [
    {
     "name": "stdout",
     "output_type": "stream",
     "text": [
      "Train on 25000 samples, validate on 25000 samples\n",
      "Epoch 1/20\n",
      "25000/25000 [==============================] - 4s 142us/step - loss: 0.4877 - acc: 0.8152 - val_loss: 0.3894 - val_acc: 0.8655\n",
      "Epoch 2/20\n",
      "25000/25000 [==============================] - 3s 125us/step - loss: 0.3099 - acc: 0.9058 - val_loss: 0.3304 - val_acc: 0.8892\n",
      "Epoch 3/20\n",
      "25000/25000 [==============================] - 3s 131us/step - loss: 0.2654 - acc: 0.9202 - val_loss: 0.3297 - val_acc: 0.8874\n",
      "Epoch 4/20\n",
      "25000/25000 [==============================] - 3s 124us/step - loss: 0.2455 - acc: 0.9285 - val_loss: 0.3407 - val_acc: 0.8820\n",
      "Epoch 5/20\n",
      "25000/25000 [==============================] - 3s 127us/step - loss: 0.2320 - acc: 0.9350 - val_loss: 0.3809 - val_acc: 0.8681\n",
      "Epoch 6/20\n",
      "25000/25000 [==============================] - 3s 128us/step - loss: 0.2234 - acc: 0.9389 - val_loss: 0.3659 - val_acc: 0.8753\n",
      "Epoch 7/20\n",
      "25000/25000 [==============================] - 3s 125us/step - loss: 0.2168 - acc: 0.9409 - val_loss: 0.3748 - val_acc: 0.8732\n",
      "Epoch 8/20\n",
      "25000/25000 [==============================] - 3s 126us/step - loss: 0.2104 - acc: 0.9441 - val_loss: 0.3733 - val_acc: 0.8750\n",
      "Epoch 9/20\n",
      "25000/25000 [==============================] - 3s 125us/step - loss: 0.2045 - acc: 0.9461 - val_loss: 0.3757 - val_acc: 0.8750\n",
      "Epoch 10/20\n",
      "25000/25000 [==============================] - 3s 125us/step - loss: 0.2010 - acc: 0.9496 - val_loss: 0.3820 - val_acc: 0.8748\n",
      "Epoch 11/20\n",
      "25000/25000 [==============================] - 3s 125us/step - loss: 0.1955 - acc: 0.9485 - val_loss: 0.3835 - val_acc: 0.8755\n",
      "Epoch 12/20\n",
      "25000/25000 [==============================] - 3s 125us/step - loss: 0.1931 - acc: 0.9499 - val_loss: 0.3918 - val_acc: 0.8740\n",
      "Epoch 13/20\n",
      "25000/25000 [==============================] - 3s 125us/step - loss: 0.1887 - acc: 0.9530 - val_loss: 0.3964 - val_acc: 0.8730\n",
      "Epoch 14/20\n",
      "25000/25000 [==============================] - 3s 125us/step - loss: 0.1827 - acc: 0.9558 - val_loss: 0.4092 - val_acc: 0.8703\n",
      "Epoch 15/20\n",
      "25000/25000 [==============================] - 3s 129us/step - loss: 0.1837 - acc: 0.9545 - val_loss: 0.4499 - val_acc: 0.8580\n",
      "Epoch 16/20\n",
      "25000/25000 [==============================] - 3s 125us/step - loss: 0.1782 - acc: 0.9575 - val_loss: 0.4438 - val_acc: 0.8651\n",
      "Epoch 17/20\n",
      "25000/25000 [==============================] - 3s 126us/step - loss: 0.1737 - acc: 0.9596 - val_loss: 0.4204 - val_acc: 0.8700\n",
      "Epoch 18/20\n",
      "25000/25000 [==============================] - 3s 125us/step - loss: 0.1709 - acc: 0.9610 - val_loss: 0.4330 - val_acc: 0.8685\n",
      "Epoch 19/20\n",
      "25000/25000 [==============================] - 3s 126us/step - loss: 0.1672 - acc: 0.9628 - val_loss: 0.4426 - val_acc: 0.8656\n",
      "Epoch 20/20\n",
      "25000/25000 [==============================] - 3s 125us/step - loss: 0.1646 - acc: 0.9640 - val_loss: 0.4360 - val_acc: 0.8683\n"
     ]
    }
   ],
   "source": [
    "l2_model_hist = l2_model.fit(x_train, y_train,\n",
    "                             epochs=20,\n",
    "                             batch_size=512,\n",
    "                             validation_data=(x_test, y_test))"
   ]
  },
  {
   "cell_type": "code",
   "execution_count": 19,
   "metadata": {},
   "outputs": [
    {
     "data": {
      "image/png": "[encoded data removed]",
      "text/plain": [
       "<Figure size 432x288 with 1 Axes>"
      ]
     },
     "metadata": {
      "needs_background": "light"
     },
     "output_type": "display_data"
    }
   ],
   "source": [
    "l2_model_val_loss = l2_model_hist.history['val_loss']\n",
    "\n",
    "plt.plot(epochs, original_val_loss, 'b+', label='Original model')\n",
    "plt.plot(epochs, l2_model_val_loss, 'bo', label='L2-regularized model')\n",
    "plt.xlabel('Epochs')\n",
    "plt.ylabel('Validation loss')\n",
    "plt.legend()\n",
    "\n",
    "plt.show()"
   ]
  },
  {
   "cell_type": "markdown",
   "metadata": {},
   "source": [
    "\n",
    "\n",
    "As you can see, the model with L2 regularization (dots) has become much more resistant to overfitting than the reference model (crosses), \n",
    "even though both models have the same number of parameters.\n",
    "\n",
    "As alternatives to L2 regularization, you could use one of the following Keras weight regularizers:"
   ]
  },
  {
   "cell_type": "code",
   "execution_count": null,
   "metadata": {
    "collapsed": true
   },
   "outputs": [],
   "source": [
    "from keras import regularizers\n",
    "\n",
    "# L1 regularization\n",
    "regularizers.l1(0.001)\n",
    "\n",
    "# L1 and L2 regularization at the same time\n",
    "regularizers.l1_l2(l1=0.001, l2=0.001)"
   ]
  },
  {
   "cell_type": "markdown",
   "metadata": {},
   "source": [
    "## Adding dropout\n",
    "\n",
    "\n",
    "Dropout is one of the most effective and most commonly used regularization techniques for neural networks, developed by Hinton and his \n",
    "students at the University of Toronto. Dropout, applied to a layer, consists of randomly \"dropping out\" (i.e. setting to zero) a number of \n",
    "output features of the layer during training. Let's say a given layer would normally have returned a vector `[0.2, 0.5, 1.3, 0.8, 1.1]` for a \n",
    "given input sample during training; after applying dropout, this vector will have a few zero entries distributed at random, e.g. `[0, 0.5, \n",
    "1.3, 0, 1.1]`. The \"dropout rate\" is the fraction of the features that are being zeroed-out; it is usually set between 0.2 and 0.5. At test \n",
    "time, no units are dropped out, and instead the layer's output values are scaled down by a factor equal to the dropout rate, so as to \n",
    "balance for the fact that more units are active than at training time.\n",
    "\n",
    "Consider a Numpy matrix containing the output of a layer, `layer_output`, of shape `(batch_size, features)`. At training time, we would be \n",
    "zero-ing out at random a fraction of the values in the matrix:"
   ]
  },
  {
   "cell_type": "code",
   "execution_count": 20,
   "metadata": {},
   "outputs": [
    {
     "ename": "NameError",
     "evalue": "name 'layer_output' is not defined",
     "output_type": "error",
     "traceback": [
      "\u001b[1;31m---------------------------------------------------------------------------\u001b[0m",
      "\u001b[1;31mNameError\u001b[0m                                 Traceback (most recent call last)",
      "\u001b[1;32m<ipython-input-20-f1f187ff4a2c>\u001b[0m in \u001b[0;36m<module>\u001b[1;34m\u001b[0m\n\u001b[0;32m      1\u001b[0m \u001b[1;31m# At training time: we drop out 50% of the units in the output\u001b[0m\u001b[1;33m\u001b[0m\u001b[1;33m\u001b[0m\u001b[1;33m\u001b[0m\u001b[0m\n\u001b[1;32m----> 2\u001b[1;33m \u001b[0mlayer_output\u001b[0m \u001b[1;33m*=\u001b[0m \u001b[0mnp\u001b[0m\u001b[1;33m.\u001b[0m\u001b[0mrandint\u001b[0m\u001b[1;33m(\u001b[0m\u001b[1;36m0\u001b[0m\u001b[1;33m,\u001b[0m \u001b[0mhigh\u001b[0m\u001b[1;33m=\u001b[0m\u001b[1;36m2\u001b[0m\u001b[1;33m,\u001b[0m \u001b[0msize\u001b[0m\u001b[1;33m=\u001b[0m\u001b[0mlayer_output\u001b[0m\u001b[1;33m.\u001b[0m\u001b[0mshape\u001b[0m\u001b[1;33m)\u001b[0m\u001b[1;33m\u001b[0m\u001b[1;33m\u001b[0m\u001b[0m\n\u001b[0m",
      "\u001b[1;31mNameError\u001b[0m: name 'layer_output' is not defined"
     ]
    }
   ],
   "source": [
    "# At training time: we drop out 50% of the units in the output\n",
    "layer_output *= np.randint(0, high=2, size=layer_output.shape)"
   ]
  },
  {
   "cell_type": "markdown",
   "metadata": {},
   "source": [
    "\n",
    "At test time, we would be scaling the output down by the dropout rate. Here we scale by 0.5 (because we were previous dropping half the \n",
    "units):"
   ]
  },
  {
   "cell_type": "code",
   "execution_count": null,
   "metadata": {
    "collapsed": true
   },
   "outputs": [],
   "source": [
    "# At test time:\n",
    "layer_output *= 0.5"
   ]
  },
  {
   "cell_type": "markdown",
   "metadata": {},
   "source": [
    "\n",
    "Note that this process can be implemented by doing both operations at training time and leaving the output unchanged at test time, which is \n",
    "often the way it is implemented in practice:"
   ]
  },
  {
   "cell_type": "code",
   "execution_count": null,
   "metadata": {
    "collapsed": true
   },
   "outputs": [],
   "source": [
    "# At training time:\n",
    "layer_output *= np.randint(0, high=2, size=layer_output.shape)\n",
    "# Note that we are scaling *up* rather scaling *down* in this case\n",
    "layer_output /= 0.5"
   ]
  },
  {
   "cell_type": "markdown",
   "metadata": {},
   "source": [
    "\n",
    "This technique may seem strange and arbitrary. Why would this help reduce overfitting? Geoff Hinton has said that he was inspired, among \n",
    "other things, by a fraud prevention mechanism used by banks -- in his own words: _\"I went to my bank. The tellers kept changing and I asked \n",
    "one of them why. He said he didn’t know but they got moved around a lot. I figured it must be because it would require cooperation \n",
    "between employees to successfully defraud the bank. This made me realize that randomly removing a different subset of neurons on each \n",
    "example would prevent conspiracies and thus reduce overfitting\"_.\n",
    "\n",
    "The core idea is that introducing noise in the output values of a layer can break up happenstance patterns that are not significant (what \n",
    "Hinton refers to as \"conspiracies\"), which the network would start memorizing if no noise was present. \n",
    "\n",
    "In Keras you can introduce dropout in a network via the `Dropout` layer, which gets applied to the output of layer right before it, e.g.:"
   ]
  },
  {
   "cell_type": "code",
   "execution_count": 21,
   "metadata": {},
   "outputs": [
    {
     "ename": "NameError",
     "evalue": "name 'model' is not defined",
     "output_type": "error",
     "traceback": [
      "\u001b[1;31m---------------------------------------------------------------------------\u001b[0m",
      "\u001b[1;31mNameError\u001b[0m                                 Traceback (most recent call last)",
      "\u001b[1;32m<ipython-input-21-65ed89de200e>\u001b[0m in \u001b[0;36m<module>\u001b[1;34m\u001b[0m\n\u001b[1;32m----> 1\u001b[1;33m \u001b[0mmodel\u001b[0m\u001b[1;33m.\u001b[0m\u001b[0madd\u001b[0m\u001b[1;33m(\u001b[0m\u001b[0mlayers\u001b[0m\u001b[1;33m.\u001b[0m\u001b[0mDropout\u001b[0m\u001b[1;33m(\u001b[0m\u001b[1;36m0.5\u001b[0m\u001b[1;33m)\u001b[0m\u001b[1;33m)\u001b[0m\u001b[1;33m\u001b[0m\u001b[1;33m\u001b[0m\u001b[0m\n\u001b[0m",
      "\u001b[1;31mNameError\u001b[0m: name 'model' is not defined"
     ]
    }
   ],
   "source": [
    "model.add(layers.Dropout(0.5))"
   ]
  },
  {
   "cell_type": "markdown",
   "metadata": {},
   "source": [
    "Let's add two `Dropout` layers in our IMDB network to see how well they do at reducing overfitting:"
   ]
  },
  {
   "cell_type": "code",
   "execution_count": 22,
   "metadata": {},
   "outputs": [
    {
     "name": "stdout",
     "output_type": "stream",
     "text": [
      "WARNING:tensorflow:From C:\\ProgramData\\Anaconda3\\lib\\site-packages\\keras\\backend\\tensorflow_backend.py:3445: calling dropout (from tensorflow.python.ops.nn_ops) with keep_prob is deprecated and will be removed in a future version.\n",
      "Instructions for updating:\n",
      "Please use `rate` instead of `keep_prob`. Rate should be set to `rate = 1 - keep_prob`.\n"
     ]
    }
   ],
   "source": [
    "dpt_model = models.Sequential()\n",
    "dpt_model.add(layers.Dense(16, activation='relu', input_shape=(10000,)))\n",
    "dpt_model.add(layers.Dropout(0.5))\n",
    "dpt_model.add(layers.Dense(16, activation='relu'))\n",
    "dpt_model.add(layers.Dropout(0.5))\n",
    "dpt_model.add(layers.Dense(1, activation='sigmoid'))\n",
    "\n",
    "dpt_model.compile(optimizer='rmsprop',\n",
    "                  loss='binary_crossentropy',\n",
    "                  metrics=['acc'])"
   ]
  },
  {
   "cell_type": "code",
   "execution_count": 23,
   "metadata": {},
   "outputs": [
    {
     "name": "stdout",
     "output_type": "stream",
     "text": [
      "Train on 25000 samples, validate on 25000 samples\n",
      "Epoch 1/20\n",
      "25000/25000 [==============================] - 4s 159us/step - loss: 0.5914 - acc: 0.6815 - val_loss: 0.4323 - val_acc: 0.8614\n",
      "Epoch 2/20\n",
      "25000/25000 [==============================] - 3s 133us/step - loss: 0.4363 - acc: 0.8187 - val_loss: 0.3473 - val_acc: 0.8718\n",
      "Epoch 3/20\n",
      "25000/25000 [==============================] - 3s 126us/step - loss: 0.3466 - acc: 0.8719 - val_loss: 0.2922 - val_acc: 0.8857\n",
      "Epoch 4/20\n",
      "25000/25000 [==============================] - 3s 129us/step - loss: 0.2882 - acc: 0.8987 - val_loss: 0.2760 - val_acc: 0.8878\n",
      "Epoch 5/20\n",
      "25000/25000 [==============================] - 3s 128us/step - loss: 0.2530 - acc: 0.9141 - val_loss: 0.2802 - val_acc: 0.8887\n",
      "Epoch 6/20\n",
      "25000/25000 [==============================] - 3s 128us/step - loss: 0.2207 - acc: 0.9277 - val_loss: 0.2900 - val_acc: 0.8866\n",
      "Epoch 7/20\n",
      "25000/25000 [==============================] - 3s 131us/step - loss: 0.1957 - acc: 0.9362 - val_loss: 0.3198 - val_acc: 0.8852\n",
      "Epoch 8/20\n",
      "25000/25000 [==============================] - 3s 129us/step - loss: 0.1743 - acc: 0.9440 - val_loss: 0.3361 - val_acc: 0.8845\n",
      "Epoch 9/20\n",
      "25000/25000 [==============================] - 3s 129us/step - loss: 0.1701 - acc: 0.9454 - val_loss: 0.3489 - val_acc: 0.8843\n",
      "Epoch 10/20\n",
      "25000/25000 [==============================] - 3s 128us/step - loss: 0.1502 - acc: 0.9512 - val_loss: 0.3770 - val_acc: 0.8836\n",
      "Epoch 11/20\n",
      "25000/25000 [==============================] - 3s 128us/step - loss: 0.1449 - acc: 0.9539 - val_loss: 0.3936 - val_acc: 0.8797\n",
      "Epoch 12/20\n",
      "25000/25000 [==============================] - 3s 129us/step - loss: 0.1359 - acc: 0.9582 - val_loss: 0.4367 - val_acc: 0.8756\n",
      "Epoch 13/20\n",
      "25000/25000 [==============================] - 3s 130us/step - loss: 0.1229 - acc: 0.9611 - val_loss: 0.4637 - val_acc: 0.8739\n",
      "Epoch 14/20\n",
      "25000/25000 [==============================] - 3s 129us/step - loss: 0.1190 - acc: 0.9618 - val_loss: 0.4552 - val_acc: 0.8758\n",
      "Epoch 15/20\n",
      "25000/25000 [==============================] - 3s 130us/step - loss: 0.1142 - acc: 0.9623 - val_loss: 0.4961 - val_acc: 0.8732\n",
      "Epoch 16/20\n",
      "25000/25000 [==============================] - 3s 129us/step - loss: 0.1127 - acc: 0.9649 - val_loss: 0.5123 - val_acc: 0.8760\n",
      "Epoch 17/20\n",
      "25000/25000 [==============================] - 3s 129us/step - loss: 0.1072 - acc: 0.9654 - val_loss: 0.5453 - val_acc: 0.8738\n",
      "Epoch 18/20\n",
      "25000/25000 [==============================] - 3s 129us/step - loss: 0.1083 - acc: 0.9668 - val_loss: 0.5540 - val_acc: 0.8742\n",
      "Epoch 19/20\n",
      "25000/25000 [==============================] - 3s 129us/step - loss: 0.0976 - acc: 0.9688 - val_loss: 0.5624 - val_acc: 0.8730\n",
      "Epoch 20/20\n",
      "25000/25000 [==============================] - 3s 129us/step - loss: 0.1005 - acc: 0.9692 - val_loss: 0.5905 - val_acc: 0.8687\n"
     ]
    }
   ],
   "source": [
    "dpt_model_hist = dpt_model.fit(x_train, y_train,\n",
    "                               epochs=20,\n",
    "                               batch_size=512,\n",
    "                               validation_data=(x_test, y_test))"
   ]
  },
  {
   "cell_type": "markdown",
   "metadata": {},
   "source": [
    "Let's plot the results:"
   ]
  },
  {
   "cell_type": "code",
   "execution_count": 24,
   "metadata": {},
   "outputs": [
    {
     "data": {
      "image/png": "[encoded data removed]",
      "text/plain": [
       "<Figure size 432x288 with 1 Axes>"
      ]
     },
     "metadata": {
      "needs_background": "light"
     },
     "output_type": "display_data"
    }
   ],
   "source": [
    "dpt_model_val_loss = dpt_model_hist.history['val_loss']\n",
    "\n",
    "plt.plot(epochs, original_val_loss, 'b+', label='Original model')\n",
    "plt.plot(epochs, dpt_model_val_loss, 'bo', label='Dropout-regularized model')\n",
    "plt.xlabel('Epochs')\n",
    "plt.ylabel('Validation loss')\n",
    "plt.legend()\n",
    "\n",
    "plt.show()"
   ]
  },
  {
   "cell_type": "markdown",
   "metadata": {},
   "source": [
    "\n",
    "Again, a clear improvement over the reference network.\n",
    "\n",
    "To recap: here the most common ways to prevent overfitting in neural networks:\n",
    "\n",
    "* Getting more training data.\n",
    "* Reducing the capacity of the network.\n",
    "* Adding weight regularization.\n",
    "* Adding dropout."
   ]
  }
 ],
 "metadata": {
  "kernelspec": {
   "display_name": "Python 3",
   "language": "python",
   "name": "python3"
  },
  "language_info": {
   "codemirror_mode": {
    "name": "ipython",
    "version": 3
   },
   "file_extension": ".py",
   "mimetype": "text/x-python",
   "name": "python",
   "nbconvert_exporter": "python",
   "pygments_lexer": "ipython3",
   "version": "3.6.7"
  },
  "toc": {
   "base_numbering": 1,
   "nav_menu": {},
   "number_sections": true,
   "sideBar": true,
   "skip_h1_title": false,
   "title_cell": "Table of Contents",
   "title_sidebar": "Contents",
   "toc_cell": false,
   "toc_position": {},
   "toc_section_display": true,
   "toc_window_display": false
  }
 },
 "nbformat": 4,
 "nbformat_minor": 2
}
